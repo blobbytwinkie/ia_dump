{
 "cells": [
  {
   "cell_type": "code",
   "execution_count": 1,
   "id": "faec4343",
   "metadata": {},
   "outputs": [],
   "source": [
    "import pandas as pd\n",
    "import csv\n",
    "import json\n",
    "import os\n",
    "import shutil"
   ]
  },
  {
   "cell_type": "code",
   "execution_count": 2,
   "id": "33fd3c20",
   "metadata": {},
   "outputs": [
    {
     "data": {
      "text/plain": [
       "'E:\\\\GitHub\\\\IA\\\\ia_dump'"
      ]
     },
     "execution_count": 2,
     "metadata": {},
     "output_type": "execute_result"
    }
   ],
   "source": [
    "os.getcwd()"
   ]
  },
  {
   "cell_type": "code",
   "execution_count": 3,
   "id": "9e54a9cb",
   "metadata": {},
   "outputs": [],
   "source": [
    "cfg_path = r'E:\\GitHub\\IA\\ia_dump\\EN\\FILES'\n",
    "data_csv = r'E:\\GitHub\\IA\\ia_dump\\EN\\FILES\\data.csv'\n"
   ]
  },
  {
   "cell_type": "code",
   "execution_count": 22,
   "id": "251c7f63",
   "metadata": {},
   "outputs": [],
   "source": [
    "csv_list = []\n",
    "for path, folder, files in os.walk(cfg_path):\n",
    "\n",
    "    for filename in files:\n",
    "        df = pd.read_csv(path + '\\\\' + filename)\n",
    "        headers = list(df)\n",
    "        group = path.split(\"\\\\\")[-1]\n",
    "        this_row = [group, filename, headers]\n",
    "        csv_list.append(this_row)"
   ]
  },
  {
   "cell_type": "code",
   "execution_count": 23,
   "id": "64401c1d",
   "metadata": {},
   "outputs": [],
   "source": [
    "df = pd.DataFrame(csv_list, columns=['folder', 'file', 'headers'])"
   ]
  },
  {
   "cell_type": "code",
   "execution_count": 25,
   "id": "f07179a4",
   "metadata": {},
   "outputs": [
    {
     "data": {
      "text/html": [
       "<div>\n",
       "<style scoped>\n",
       "    .dataframe tbody tr th:only-of-type {\n",
       "        vertical-align: middle;\n",
       "    }\n",
       "\n",
       "    .dataframe tbody tr th {\n",
       "        vertical-align: top;\n",
       "    }\n",
       "\n",
       "    .dataframe thead th {\n",
       "        text-align: right;\n",
       "    }\n",
       "</style>\n",
       "<table border=\"1\" class=\"dataframe\">\n",
       "  <thead>\n",
       "    <tr style=\"text-align: right;\">\n",
       "      <th></th>\n",
       "      <th>folder</th>\n",
       "      <th>file</th>\n",
       "      <th>headers</th>\n",
       "    </tr>\n",
       "  </thead>\n",
       "  <tbody>\n",
       "    <tr>\n",
       "      <th>520</th>\n",
       "      <td>world_boss</td>\n",
       "      <td>cfg_world_boss_info.csv</td>\n",
       "      <td>[boss_id, npc_id, need_dungeon, reward]</td>\n",
       "    </tr>\n",
       "    <tr>\n",
       "      <th>521</th>\n",
       "      <td>world_boss</td>\n",
       "      <td>cfg_world_boss_npc.csv</td>\n",
       "      <td>[npc_id, name, avatar_path, spine_name, role, ...</td>\n",
       "    </tr>\n",
       "    <tr>\n",
       "      <th>522</th>\n",
       "      <td>world_boss</td>\n",
       "      <td>cfg_world_boss_num.csv</td>\n",
       "      <td>[vip_level, challenge_num]</td>\n",
       "    </tr>\n",
       "    <tr>\n",
       "      <th>523</th>\n",
       "      <td>zszz</td>\n",
       "      <td>cfg_zszz_fight_count_cost.csv</td>\n",
       "      <td>[count, cost]</td>\n",
       "    </tr>\n",
       "    <tr>\n",
       "      <th>524</th>\n",
       "      <td>zszz</td>\n",
       "      <td>cfg_zszz_rank_reward.csv</td>\n",
       "      <td>[cfg_id, rank_min, rank_max, reward]</td>\n",
       "    </tr>\n",
       "  </tbody>\n",
       "</table>\n",
       "</div>"
      ],
      "text/plain": [
       "         folder                           file  \\\n",
       "520  world_boss        cfg_world_boss_info.csv   \n",
       "521  world_boss         cfg_world_boss_npc.csv   \n",
       "522  world_boss         cfg_world_boss_num.csv   \n",
       "523        zszz  cfg_zszz_fight_count_cost.csv   \n",
       "524        zszz       cfg_zszz_rank_reward.csv   \n",
       "\n",
       "                                               headers  \n",
       "520            [boss_id, npc_id, need_dungeon, reward]  \n",
       "521  [npc_id, name, avatar_path, spine_name, role, ...  \n",
       "522                         [vip_level, challenge_num]  \n",
       "523                                      [count, cost]  \n",
       "524               [cfg_id, rank_min, rank_max, reward]  "
      ]
     },
     "execution_count": 25,
     "metadata": {},
     "output_type": "execute_result"
    }
   ],
   "source": [
    "df.tail()"
   ]
  },
  {
   "cell_type": "code",
   "execution_count": 26,
   "id": "df9fc575",
   "metadata": {},
   "outputs": [],
   "source": [
    "df.to_csv(data_csv, encoding='utf-8', index=True)"
   ]
  },
  {
   "cell_type": "code",
   "execution_count": null,
   "id": "8c74f091",
   "metadata": {},
   "outputs": [],
   "source": []
  }
 ],
 "metadata": {
  "kernelspec": {
   "display_name": "Python 3 (ipykernel)",
   "language": "python",
   "name": "python3"
  },
  "language_info": {
   "codemirror_mode": {
    "name": "ipython",
    "version": 3
   },
   "file_extension": ".py",
   "mimetype": "text/x-python",
   "name": "python",
   "nbconvert_exporter": "python",
   "pygments_lexer": "ipython3",
   "version": "3.8.18"
  }
 },
 "nbformat": 4,
 "nbformat_minor": 5
}
